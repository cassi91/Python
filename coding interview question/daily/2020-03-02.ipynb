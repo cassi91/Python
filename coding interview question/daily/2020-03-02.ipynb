{
 "cells": [
  {
   "cell_type": "markdown",
   "metadata": {},
   "source": [
    "### Question"
   ]
  },
  {
   "cell_type": "markdown",
   "metadata": {},
   "source": [
    "Given an array of integers, return a new array such that each element at index i of the new array is the product of all the numbers in the original array except the one at i.\n",
    "\n",
    "For example, if our input was [1, 2, 3, 4, 5], the expected output would be [120, 60, 40, 30, 24]. If our input was [3, 2, 1], the expected output would be [2, 3, 6].\n",
    "\n",
    "Follow-up: what if you can't use division?"
   ]
  },
  {
   "cell_type": "code",
   "execution_count": 3,
   "metadata": {},
   "outputs": [],
   "source": [
    "import numpy as np\n",
    "\n",
    "def product_array(a:list):\n",
    "    len_a = len(a)\n",
    "    \n",
    "    if len_a == 0 or len_a == 1:\n",
    "        return []\n",
    "    \n",
    "    result = [1 for i in range(0, len_a)]\n",
    "    \n",
    "    # 算左边\n",
    "    tmp = 1\n",
    "    for i in range(0, len_a):\n",
    "        result[i] = tmp\n",
    "        tmp *= a[i]\n",
    "        \n",
    "    # 算右边\n",
    "    tmp = 1\n",
    "    for i in range(len_a - 1, -1, -1):\n",
    "        result[i] *= tmp\n",
    "        tmp *= a[i]\n",
    "        \n",
    "    return result"
   ]
  },
  {
   "cell_type": "code",
   "execution_count": 24,
   "metadata": {},
   "outputs": [
    {
     "name": "stdout",
     "output_type": "stream",
     "text": [
      "[6, 4, 7, 3, 6, 5, 2, 8, 6, 4, 7, 4, 6, 1, 1, 1, 7, 3, 4, 9, 4, 1, 3, 7, 2, 7, 9, 9, 8, 2, 2, 3, 6, 7, 6, 5, 8, 7, 4, 3, 5, 6, 7, 7, 3, 2, 5, 8, 7, 9]\n"
     ]
    },
    {
     "data": {
      "text/plain": [
       "[21151216962360129971835371520000,\n",
       " 31726825443540194957753057280000,\n",
       " 18129614539165825690144604160000,\n",
       " 42302433924720259943670743040000,\n",
       " 21151216962360129971835371520000,\n",
       " 25381460354832155966202445824000,\n",
       " 63453650887080389915506114560000,\n",
       " 15863412721770097478876528640000,\n",
       " 21151216962360129971835371520000,\n",
       " 31726825443540194957753057280000,\n",
       " 18129614539165825690144604160000,\n",
       " 31726825443540194957753057280000,\n",
       " 21151216962360129971835371520000,\n",
       " 126907301774160779831012229120000,\n",
       " 126907301774160779831012229120000,\n",
       " 126907301774160779831012229120000,\n",
       " 18129614539165825690144604160000,\n",
       " 42302433924720259943670743040000,\n",
       " 31726825443540194957753057280000,\n",
       " 14100811308240086647890247680000,\n",
       " 31726825443540194957753057280000,\n",
       " 126907301774160779831012229120000,\n",
       " 42302433924720259943670743040000,\n",
       " 18129614539165825690144604160000,\n",
       " 63453650887080389915506114560000,\n",
       " 18129614539165825690144604160000,\n",
       " 14100811308240086647890247680000,\n",
       " 14100811308240086647890247680000,\n",
       " 15863412721770097478876528640000,\n",
       " 63453650887080389915506114560000,\n",
       " 63453650887080389915506114560000,\n",
       " 42302433924720259943670743040000,\n",
       " 21151216962360129971835371520000,\n",
       " 18129614539165825690144604160000,\n",
       " 21151216962360129971835371520000,\n",
       " 25381460354832155966202445824000,\n",
       " 15863412721770097478876528640000,\n",
       " 18129614539165825690144604160000,\n",
       " 31726825443540194957753057280000,\n",
       " 42302433924720259943670743040000,\n",
       " 25381460354832155966202445824000,\n",
       " 21151216962360129971835371520000,\n",
       " 18129614539165825690144604160000,\n",
       " 18129614539165825690144604160000,\n",
       " 42302433924720259943670743040000,\n",
       " 63453650887080389915506114560000,\n",
       " 25381460354832155966202445824000,\n",
       " 15863412721770097478876528640000,\n",
       " 18129614539165825690144604160000,\n",
       " 14100811308240086647890247680000]"
      ]
     },
     "execution_count": 24,
     "metadata": {},
     "output_type": "execute_result"
    }
   ],
   "source": [
    "a = np.random.randint(1, high=10, size=50,dtype=\"uint64\").tolist()\n",
    "print(a)\n",
    "product_array(a)"
   ]
  },
  {
   "cell_type": "code",
   "execution_count": 16,
   "metadata": {},
   "outputs": [],
   "source": [
    "import numpy as np\n",
    "\n",
    "def product_array_2(a:list):\n",
    "    \n",
    "    ori = 1\n",
    "    for i in range(0, len(a)):\n",
    "        ori *= a[i]\n",
    "        \n",
    "    result = []\n",
    "    for i in range(0, len(a)):\n",
    "        result.append(int(ori/a[i]))\n",
    "    return result"
   ]
  },
  {
   "cell_type": "code",
   "execution_count": 35,
   "metadata": {},
   "outputs": [
    {
     "data": {
      "text/plain": [
       "[165888, 82944, 27648, 20736, 27648, 20736, 27648, 82944, 55296]"
      ]
     },
     "execution_count": 35,
     "metadata": {},
     "output_type": "execute_result"
    }
   ],
   "source": [
    "a = [1, 2, 6, 8, 6, 8, 6, 2, 3]\n",
    "product_array_2(a)"
   ]
  },
  {
   "cell_type": "code",
   "execution_count": 25,
   "metadata": {},
   "outputs": [
    {
     "data": {
      "text/plain": [
       "21151216962360129971835371520000"
      ]
     },
     "execution_count": 25,
     "metadata": {},
     "output_type": "execute_result"
    }
   ],
   "source": [
    "m = [4, 7, 3, 6, 5, 2, 8, 6, 4, 7, 4, 6, 1, 1, 1, 7, 3, 4, 9, 4, 1, 3, 7, 2, 7, 9, 9, 8, 2, 2, 3, 6, 7, 6, 5, 8, 7, 4, 3, 5, 6, 7, 7, 3, 2, 5, 8, 7, 9]\n",
    "tmp = 1\n",
    "for i in m:\n",
    "    tmp *= i\n",
    "tmp"
   ]
  },
  {
   "cell_type": "code",
   "execution_count": 31,
   "metadata": {},
   "outputs": [],
   "source": [
    "def product_array_3(a:list):\n",
    "    \n",
    "    len_a = len(a)\n",
    "    \n",
    "    EPS = 1e-9\n",
    "    sum = 0\n",
    "    for i in range(len_a):\n",
    "        sum += np.log10(a[i])\n",
    "    \n",
    "    result = []\n",
    "    for i in range(len_a):\n",
    "        result.append(int(pow(10, sum - np.log10(a[i]))))\n",
    "\n",
    "    return result\n",
    "\n"
   ]
  },
  {
   "cell_type": "code",
   "execution_count": 34,
   "metadata": {},
   "outputs": [
    {
     "name": "stdout",
     "output_type": "stream",
     "text": [
      "[1, 2, 6, 8, 6, 8, 6, 2, 3]\n"
     ]
    },
    {
     "data": {
      "text/plain": [
       "[165888, 82944, 27648, 20736, 27648, 20736, 27648, 82944, 55296]"
      ]
     },
     "execution_count": 34,
     "metadata": {},
     "output_type": "execute_result"
    }
   ],
   "source": [
    "c = np.random.randint(1, high=10, size=9,dtype=\"uint64\").tolist()\n",
    "print(c)\n",
    "product_array_3(c)"
   ]
  },
  {
   "cell_type": "code",
   "execution_count": null,
   "metadata": {},
   "outputs": [],
   "source": []
  }
 ],
 "metadata": {
  "kernelspec": {
   "display_name": "Python 3",
   "language": "python",
   "name": "python3"
  },
  "language_info": {
   "codemirror_mode": {
    "name": "ipython",
    "version": 3
   },
   "file_extension": ".py",
   "mimetype": "text/x-python",
   "name": "python",
   "nbconvert_exporter": "python",
   "pygments_lexer": "ipython3",
   "version": "3.7.4"
  }
 },
 "nbformat": 4,
 "nbformat_minor": 2
}
