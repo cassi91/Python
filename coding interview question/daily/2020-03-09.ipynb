{
 "cells": [
  {
   "cell_type": "code",
   "execution_count": 20,
   "metadata": {},
   "outputs": [],
   "source": [
    "def max_sum(list):\n",
    "    \n",
    "    len_list = len(list)\n",
    "    \n",
    "    if len_list == 1:\n",
    "        return list[0]\n",
    "    \n",
    "    if len_list == 2:\n",
    "        return max(list[0], list[1])\n",
    "    \n",
    "    # ex_sum[] 为最大值的列表 表示当索引为0～n时的最大值列表\n",
    "    ex_sum = [0 for _ in range(0, len_list)]\n",
    "    \n",
    "    ex_sum[0] = max(0, list[0])\n",
    "    ex_sum[1] = max(ex_sum[0], list[1])\n",
    "    \n",
    "    max_num = 0\n",
    "    for i in range(2, len_list):\n",
    "        max_num = max(ex_sum[i-1], ex_sum[i-2] + list[i])\n",
    "        ex_sum[i] = max_num\n",
    "    \n",
    "    return max_num\n",
    "    "
   ]
  },
  {
   "cell_type": "code",
   "execution_count": 21,
   "metadata": {},
   "outputs": [
    {
     "data": {
      "text/plain": [
       "8"
      ]
     },
     "execution_count": 21,
     "metadata": {},
     "output_type": "execute_result"
    }
   ],
   "source": [
    "list_a = [1,3,1,2,5]\n",
    "max_sum(list_a)"
   ]
  },
  {
   "cell_type": "code",
   "execution_count": 22,
   "metadata": {},
   "outputs": [],
   "source": [
    "def max_sum_(list):\n",
    "    \n",
    "    len_list = len(list)\n",
    "    \n",
    "    if len_list == 1:\n",
    "        return list[0]\n",
    "    \n",
    "    if len_list == 2:\n",
    "        return max(list[0], list[1])\n",
    "    \n",
    "    a = max(0, list[0])\n",
    "    b = max(a, list[1])\n",
    "    \n",
    "    max_num = 0\n",
    "    for i in range(2, len_list):\n",
    "        max_num = max(b, a + list[i])\n",
    "        a,b = b, max_num\n",
    "    return max_num"
   ]
  },
  {
   "cell_type": "code",
   "execution_count": 23,
   "metadata": {},
   "outputs": [
    {
     "data": {
      "text/plain": [
       "8"
      ]
     },
     "execution_count": 23,
     "metadata": {},
     "output_type": "execute_result"
    }
   ],
   "source": [
    "max_sum_(list_a)"
   ]
  },
  {
   "cell_type": "code",
   "execution_count": null,
   "metadata": {},
   "outputs": [],
   "source": []
  }
 ],
 "metadata": {
  "kernelspec": {
   "display_name": "Python 3",
   "language": "python",
   "name": "python3"
  },
  "language_info": {
   "codemirror_mode": {
    "name": "ipython",
    "version": 3
   },
   "file_extension": ".py",
   "mimetype": "text/x-python",
   "name": "python",
   "nbconvert_exporter": "python",
   "pygments_lexer": "ipython3",
   "version": "3.7.4"
  }
 },
 "nbformat": 4,
 "nbformat_minor": 2
}
