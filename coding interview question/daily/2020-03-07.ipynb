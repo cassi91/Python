{
 "cells": [
  {
   "cell_type": "code",
   "execution_count": 5,
   "metadata": {},
   "outputs": [],
   "source": [
    "def helper(data, k):\n",
    "    # k = 1 的话，会造成数组超出定义范围， 因为要判断10+的情况\n",
    "    \n",
    "    if k == 0:\n",
    "        return 1\n",
    "    \n",
    "    # 当前数字的索引\n",
    "    current_data_index = len(data) - k\n",
    "    if data[current_data_index] == '0':\n",
    "        return 0\n",
    "    \n",
    "    # 向后移动一位 当移动到最后一位时 即上面的 k = 0 时，加一次decode方法\n",
    "    result = helper(data, k-1)\n",
    "    \n",
    "    # 如果后面两位在小于26的话 增加一次decode 方法\n",
    "    if k >= 2 and int(data[current_data_index:current_data_index + 2]) <= 26:\n",
    "        result += helper(data, k-2)\n",
    "    \n",
    "    return result\n",
    "\n",
    "def num_ways(data):\n",
    "    r = helper(data, len(data))\n",
    "    return r\n"
   ]
  },
  {
   "cell_type": "code",
   "execution_count": 6,
   "metadata": {},
   "outputs": [
    {
     "data": {
      "text/plain": [
       "3"
      ]
     },
     "execution_count": 6,
     "metadata": {},
     "output_type": "execute_result"
    }
   ],
   "source": [
    "num_ways('111')"
   ]
  },
  {
   "cell_type": "markdown",
   "metadata": {},
   "source": [
    "### 动态规划 dynamic programing"
   ]
  },
  {
   "cell_type": "markdown",
   "metadata": {},
   "source": [
    "递归会出现重复计算的情况， 将计算过的结果储存，可以用来降低时间复杂度"
   ]
  },
  {
   "cell_type": "code",
   "execution_count": 12,
   "metadata": {},
   "outputs": [],
   "source": [
    "def helper_dynamic(data, k, memo):\n",
    "    # k = 1 的话，会造成数组超出定义范围， 因为要判断10+的情况\n",
    "    \n",
    "    if k == 0:\n",
    "        return 1\n",
    "    \n",
    "    # 当前数字的索引\n",
    "    current_data_index = len(data) - k\n",
    "    if data[current_data_index] == '0':\n",
    "        return 0\n",
    "    \n",
    "    if memo[k] != None:\n",
    "        return memo[k]\n",
    "    \n",
    "    # 向后移动一位 当移动到最后一位时 即上面的 k = 0 时，加一次decode方法\n",
    "    result = helper_dynamic(data, k-1, memo)\n",
    "    \n",
    "    # 如果后面两位在小于26的话 增加一次decode 方法\n",
    "    if k >= 2 and int(data[current_data_index:current_data_index + 2]) <= 26:\n",
    "        result += helper_dynamic(data, k-2, memo)\n",
    "    \n",
    "    memo[k] = result\n",
    "    return result\n",
    "\n",
    "def num_ways_dynamic(data):\n",
    "    len_data = len(data)\n",
    "    memo = [None for _ in range(len_data + 1)]\n",
    "    result = helper_dynamic(data, len_data, memo)\n",
    "    return result\n",
    "    "
   ]
  },
  {
   "cell_type": "code",
   "execution_count": 13,
   "metadata": {},
   "outputs": [
    {
     "data": {
      "text/plain": [
       "5"
      ]
     },
     "execution_count": 13,
     "metadata": {},
     "output_type": "execute_result"
    }
   ],
   "source": [
    "num_ways_dynamic('1111')"
   ]
  },
  {
   "cell_type": "code",
   "execution_count": null,
   "metadata": {},
   "outputs": [],
   "source": []
  }
 ],
 "metadata": {
  "kernelspec": {
   "display_name": "Python 3",
   "language": "python",
   "name": "python3"
  },
  "language_info": {
   "codemirror_mode": {
    "name": "ipython",
    "version": 3
   },
   "file_extension": ".py",
   "mimetype": "text/x-python",
   "name": "python",
   "nbconvert_exporter": "python",
   "pygments_lexer": "ipython3",
   "version": "3.7.4"
  }
 },
 "nbformat": 4,
 "nbformat_minor": 2
}
