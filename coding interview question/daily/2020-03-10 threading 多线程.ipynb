{
 "cells": [
  {
   "cell_type": "markdown",
   "metadata": {},
   "source": [
    "### 题目 "
   ]
  },
  {
   "cell_type": "markdown",
   "metadata": {},
   "source": [
    "Implement a job scheduler which takes in a function `f` and an integer `n`, and calls `f` after `n` milliseconds."
   ]
  },
  {
   "cell_type": "markdown",
   "metadata": {},
   "source": [
    "### 解答"
   ]
  },
  {
   "cell_type": "code",
   "execution_count": 8,
   "metadata": {},
   "outputs": [],
   "source": [
    "from time import sleep\n",
    "def scheduler(f, n):\n",
    "    sleep(0.001*n)\n",
    "    f()"
   ]
  },
  {
   "cell_type": "code",
   "execution_count": 17,
   "metadata": {},
   "outputs": [
    {
     "name": "stdout",
     "output_type": "stream",
     "text": [
      "test function 1\n",
      "test function 2\n",
      "test function 3\n"
     ]
    }
   ],
   "source": [
    "def test_f1():\n",
    "    print('test function 1')\n",
    "\n",
    "def test_f2():\n",
    "    print('test function 2')\n",
    "    \n",
    "def test_f3():\n",
    "    print('test function 3')\n",
    "scheduler(test_f1, 2000)\n",
    "scheduler(test_f2, 4000)\n",
    "scheduler(test_f3, 1000)"
   ]
  },
  {
   "cell_type": "markdown",
   "metadata": {},
   "source": [
    "上面的运行结果与我们期望的并不一样，只会按顺序执行。需要加入线程来解决这个问题"
   ]
  },
  {
   "cell_type": "code",
   "execution_count": 23,
   "metadata": {},
   "outputs": [],
   "source": [
    "from time import sleep, time\n",
    "import threading\n",
    "\n",
    "class scheduler_fix:\n",
    "    def __init__(self):\n",
    "        self.fns = []\n",
    "        t = threading.Thread(target=self.poll)\n",
    "        t.start()\n",
    "        \n",
    "    def poll(self):\n",
    "        while True:\n",
    "            now = time() * 1000 \n",
    "            for fn, due in self.fns:\n",
    "                if now >= due:\n",
    "                    fn()\n",
    "            self.fns = [(fn, due) for fn, due in self.fns if due > now]\n",
    "            sleep(0.01)\n",
    "    def dely(self, f, n):\n",
    "        self.fns.append((f, time() * 1000 + n ))"
   ]
  },
  {
   "cell_type": "code",
   "execution_count": 25,
   "metadata": {},
   "outputs": [
    {
     "name": "stdout",
     "output_type": "stream",
     "text": [
      "test function 3\n",
      "test function 1\n",
      "test function 2\n"
     ]
    }
   ],
   "source": [
    "schedu_fix = scheduler_fix()\n",
    "schedu_fix.dely(test_f1, 2000)\n",
    "schedu_fix.dely(test_f2, 4000)\n",
    "schedu_fix.dely(test_f3, 1000)"
   ]
  },
  {
   "cell_type": "markdown",
   "metadata": {},
   "source": [
    "但是每秒循环执行100次poll并不能很好的完成任务。通过加入锁，让程序变得更健壮。"
   ]
  },
  {
   "cell_type": "code",
   "execution_count": 15,
   "metadata": {},
   "outputs": [],
   "source": [
    "from time import sleep, time\n",
    "import threading\n",
    "\n",
    "class scheduler_pro:\n",
    "    def __init__(self):\n",
    "        self.fns = []\n",
    "        \n",
    "        # 引入锁以保证线程安全，注意Lock与RLock的区别\n",
    "        self.lock = threading.RLock()\n",
    "        \n",
    "        # 使用condition来挂起以及唤醒线程\n",
    "        self.condition = threading.Condition(self.lock)\n",
    "        \n",
    "        t = threading.Thread(target=self.poll)\n",
    "        t.start()\n",
    "        \n",
    "    def poll(self):\n",
    "        \n",
    "        while True:\n",
    "            now = time() * 1000\n",
    "            \n",
    "            # with语句可以自动上锁、释放锁\n",
    "            # 确保当前线程使用fns时其他线程不会修改fns\n",
    "            with self.lock:\n",
    "                \n",
    "                to_run = [fn for fn, due in self.fns if due <= now ]\n",
    "                self.fns = [(fn, due) for (fn, due) in self.fns if due > now]\n",
    "                \n",
    "            # 将任务分类好以后，执行需要运行的任务\n",
    "            for fn in to_run:\n",
    "                fn()\n",
    "                \n",
    "            with self.lock:\n",
    "                \n",
    "                if not self.fns:\n",
    "                    # 当 fns 为空的时候 挂起线程，直到delay()的 notify 唤醒线程\n",
    "                    self.condition.wait()\n",
    "                else:\n",
    "                    # 挂起线程直到最近一个任务的执行时间\n",
    "                    ms_remaining = min(due for fn, due in self.fns) - time() * 1000\n",
    "                    \n",
    "                    if ms_remaining > 0:\n",
    "                        self.condition.wait(ms_remaining/1000)\n",
    "                \n",
    "    def delay(self, f, n):\n",
    "        with self.lock:\n",
    "            self.fns.append((f, time() * 1000 + n ))\n",
    "            self.condition.notify_all()"
   ]
  },
  {
   "cell_type": "code",
   "execution_count": 19,
   "metadata": {},
   "outputs": [
    {
     "name": "stdout",
     "output_type": "stream",
     "text": [
      "run after 1 seconds\n",
      "run after 3 seconds\n",
      "run after 5 seconds\n",
      "run after 8 seconds\n"
     ]
    }
   ],
   "source": [
    "schedul_pro = scheduler_pro()\n",
    "schedul_pro.delay(lambda:print('run after 3 seconds'), 3600)\n",
    "schedul_pro.delay(lambda:print('run after 8 seconds'), 8800)\n",
    "schedul_pro.delay(lambda:print('run after 5 seconds'), 5500)\n",
    "schedul_pro.delay(lambda:print('run after 1 seconds'), 1300)"
   ]
  },
  {
   "cell_type": "code",
   "execution_count": null,
   "metadata": {},
   "outputs": [],
   "source": []
  }
 ],
 "metadata": {
  "kernelspec": {
   "display_name": "Python 3",
   "language": "python",
   "name": "python3"
  },
  "language_info": {
   "codemirror_mode": {
    "name": "ipython",
    "version": 3
   },
   "file_extension": ".py",
   "mimetype": "text/x-python",
   "name": "python",
   "nbconvert_exporter": "python",
   "pygments_lexer": "ipython3",
   "version": "3.7.4"
  }
 },
 "nbformat": 4,
 "nbformat_minor": 2
}
