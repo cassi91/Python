{
 "cells": [
  {
   "cell_type": "markdown",
   "metadata": {},
   "source": [
    "### Question"
   ]
  },
  {
   "cell_type": "markdown",
   "metadata": {},
   "source": [
    "### serialize deserialize tree"
   ]
  },
  {
   "cell_type": "markdown",
   "metadata": {},
   "source": [
    "Given the root to a binary tree, implement `serialize(root)`, which serializes the tree into a string, and `deserialize(s)`, which deserializes the string back into the tree.\n",
    "\n",
    "For example, given the following Node class\n",
    "\n",
    "```python\n",
    "class Node:\n",
    "    def __init__(self, val, left=None, right=None):\n",
    "        self.val = val\n",
    "        self.left = left\n",
    "        self.right = right\n",
    "```\n",
    "\n",
    "The following test should pass:\n",
    "\n",
    "```python\n",
    "node = Node('root', Node('left', Node('left.left')), Node('right'))\n",
    "assert deserialize(serialize(node)).left.left.val == 'left.left'\n",
    "```"
   ]
  },
  {
   "cell_type": "code",
   "execution_count": 27,
   "metadata": {},
   "outputs": [],
   "source": [
    "class Node:\n",
    "    def __init__(self, val, left=None, right=None):\n",
    "        self.val = val\n",
    "        self.left = left\n",
    "        self.right = right\n",
    "\n",
    "def serialize(root):\n",
    "\n",
    "    if root == None:\n",
    "        return '#'\n",
    "    left = serialize(root.left)\n",
    "    right = serialize(root.right)\n",
    "    \n",
    "    return root.val + ',' + left + ',' +right\n",
    "\n",
    "def deserialize(s:str):\n",
    "    s_list = s.split(',')\n",
    "    \n",
    "    result = deserialize_helper(s_list)\n",
    "    return result\n",
    "\n",
    "def deserialize_helper(l:list):\n",
    "     \n",
    "    if len(l) == 0:\n",
    "        return\n",
    "\n",
    "    tmp = l.pop(0)\n",
    "    if tmp == '#':\n",
    "        return\n",
    "\n",
    "    node = Node(tmp)\n",
    "    node.left = deserialize_helper(l)\n",
    "    node.right = deserialize_helper(l)\n",
    "\n",
    "    return node"
   ]
  },
  {
   "cell_type": "code",
   "execution_count": 28,
   "metadata": {},
   "outputs": [
    {
     "data": {
      "text/plain": [
       "'A,B,C,#,#,D,#,#,E,#,F,#,#'"
      ]
     },
     "execution_count": 28,
     "metadata": {},
     "output_type": "execute_result"
    }
   ],
   "source": [
    "node = Node('A', Node('B', Node('C'), Node('D')), Node('E',None,Node('F')))\n",
    "x = serialize(node)\n",
    "x"
   ]
  },
  {
   "cell_type": "code",
   "execution_count": 32,
   "metadata": {},
   "outputs": [
    {
     "name": "stdout",
     "output_type": "stream",
     "text": [
      "D\n",
      "F\n"
     ]
    }
   ],
   "source": [
    "string ='A,B,C,#,#,D,#,#,E,#,F,#,#'\n",
    "node = deserialize(string)\n",
    "print(node.left.right.val)\n",
    "print(node.right.right.val)"
   ]
  },
  {
   "cell_type": "code",
   "execution_count": null,
   "metadata": {},
   "outputs": [],
   "source": []
  }
 ],
 "metadata": {
  "kernelspec": {
   "display_name": "Python 3",
   "language": "python",
   "name": "python3"
  },
  "language_info": {
   "codemirror_mode": {
    "name": "ipython",
    "version": 3
   },
   "file_extension": ".py",
   "mimetype": "text/x-python",
   "name": "python",
   "nbconvert_exporter": "python",
   "pygments_lexer": "ipython3",
   "version": "3.7.4"
  }
 },
 "nbformat": 4,
 "nbformat_minor": 2
}
